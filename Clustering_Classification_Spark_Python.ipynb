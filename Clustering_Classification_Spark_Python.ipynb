{
 "cells": [
  {
   "cell_type": "code",
   "execution_count": 1,
   "metadata": {
    "collapsed": true
   },
   "outputs": [],
   "source": [
    "from pyspark.sql import SparkSession\n",
    "from pyspark.ml.recommendation import ALS\n",
    "from pyspark.ml.evaluation import RegressionEvaluator\n",
    "import matplotlib.pyplot as plt\n",
    "import pandas as pd"
   ]
  },
  {
   "cell_type": "code",
   "execution_count": 2,
   "metadata": {
    "collapsed": true
   },
   "outputs": [],
   "source": [
    "spark = SparkSession.builder.appName('cluster').getOrCreate()"
   ]
  },
  {
   "cell_type": "markdown",
   "metadata": {},
   "source": [
    "# Exploratory Analysis"
   ]
  },
  {
   "cell_type": "code",
   "execution_count": 3,
   "metadata": {
    "collapsed": true
   },
   "outputs": [],
   "source": [
    "anime_rating_data = spark.read.csv('rating.csv', inferSchema=True, header=True)\n",
    "anime_data = spark.read.csv('anime.csv', inferSchema=True, header = True)"
   ]
  },
  {
   "cell_type": "code",
   "execution_count": 4,
   "metadata": {
    "collapsed": true
   },
   "outputs": [],
   "source": [
    "#Due to computational Reason taking only 10000 users and 10000 animes\n",
    "anime_rating_data = anime_rating_data[anime_rating_data['user_id'] <= 10000 ]\n",
    "anime_data = anime_data[anime_data['anime_id'] <= 10000]"
   ]
  },
  {
   "cell_type": "code",
   "execution_count": 5,
   "metadata": {},
   "outputs": [
    {
     "name": "stdout",
     "output_type": "stream",
     "text": [
      "+-------+------------------+-----------------+------------------+\n",
      "|summary|           user_id|         anime_id|            rating|\n",
      "+-------+------------------+-----------------+------------------+\n",
      "|  count|           1042697|          1042697|           1042697|\n",
      "|   mean| 4997.520646937701|8877.468704714793| 6.161604953308584|\n",
      "| stddev|2723.7881798718954|9019.430573731863|3.7017201292749244|\n",
      "|    min|                 1|                1|                -1|\n",
      "|    max|             10000|            34325|                10|\n",
      "+-------+------------------+-----------------+------------------+\n",
      "\n",
      "The number of columns in dataset is 3\n"
     ]
    }
   ],
   "source": [
    "anime_rating_data.describe().show()\n",
    "anime_rating_data = anime_rating_data.dropna()\n",
    "anime_rating_data = anime_rating_data.dropDuplicates(subset = ('user_id', 'anime_id', 'rating'))\n",
    "print(\"The number of columns in dataset is \" + str(len(anime_rating_data.columns)))"
   ]
  },
  {
   "cell_type": "code",
   "execution_count": 6,
   "metadata": {
    "collapsed": true
   },
   "outputs": [],
   "source": [
    "anime_rating_data_pandas = anime_rating_data.toPandas()\n",
    "anime_data_pandas = anime_data.toPandas()"
   ]
  },
  {
   "cell_type": "code",
   "execution_count": 7,
   "metadata": {},
   "outputs": [
    {
     "name": "stdout",
     "output_type": "stream",
     "text": [
      "                               name  total_rating\n",
      "0  Fullmetal Alchemist: Brotherhood          9.26\n",
      "1                       Steins;Gate          9.17\n",
      "2                     Gintama&#039;          9.16\n",
      "3              Ginga Eiyuu Densetsu          9.11\n",
      "4              Clannad: After Story          9.06\n"
     ]
    }
   ],
   "source": [
    "anime_rating_details_data = anime_data_pandas.merge(anime_rating_data_pandas, on = 'anime_id', how = 'inner')\n",
    "anime_rating_details_data = anime_rating_details_data.rename(columns = {\"rating_x\" : \"total_rating\", \"rating_y\" : \"user_rating\"})\n",
    "highest_rated_anime = pd.DataFrame(anime_rating_details_data.groupby('name')['total_rating'].max().sort_values(ascending=False)[:15]).reset_index()\n",
    "print(highest_rated_anime.head())"
   ]
  },
  {
   "cell_type": "code",
   "execution_count": 8,
   "metadata": {},
   "outputs": [
    {
     "data": {
      "image/png": "[encoded data removed]",
      "text/plain": [
       "<matplotlib.figure.Figure at 0x1d7837b22b0>"
      ]
     },
     "metadata": {},
     "output_type": "display_data"
    }
   ],
   "source": [
    "plt.bar(highest_rated_anime['name'], highest_rated_anime['total_rating'], tick_label = highest_rated_anime['name'])\n",
    "plt.xlabel('Anime')\n",
    "plt.ylabel('Ratings')\n",
    "plt.xticks(highest_rated_anime['name'], rotation = 'vertical')\n",
    "plt.title('Highest Rated Animes')\n",
    "plt.show()"
   ]
  },
  {
   "cell_type": "code",
   "execution_count": 9,
   "metadata": {},
   "outputs": [
    {
     "name": "stdout",
     "output_type": "stream",
     "text": [
      "      type  anime_count\n",
      "0    Movie       114227\n",
      "1    Music         2078\n",
      "2      ONA         5505\n",
      "3      OVA        77689\n",
      "4  Special        45027\n"
     ]
    }
   ],
   "source": [
    "anime_type_details_data = pd.DataFrame(anime_rating_details_data.groupby('type').size()).reset_index()\n",
    "anime_type_details_data = anime_type_details_data.rename(columns={0: \"anime_count\"})\n",
    "print(anime_type_details_data.head())"
   ]
  },
  {
   "cell_type": "code",
   "execution_count": 10,
   "metadata": {},
   "outputs": [
    {
     "data": {
      "image/png": "[encoded data removed]",
      "text/plain": [
       "<matplotlib.figure.Figure at 0x1d7836b4160>"
      ]
     },
     "metadata": {},
     "output_type": "display_data"
    }
   ],
   "source": [
    "plt.bar(anime_type_details_data['type'], anime_type_details_data['anime_count'], tick_label = anime_type_details_data['type'])\n",
    "plt.xlabel('Type')\n",
    "plt.ylabel('Count')\n",
    "plt.xticks(anime_type_details_data['type'], rotation = 'vertical')\n",
    "plt.title('Anime Type Count')\n",
    "plt.show()"
   ]
  },
  {
   "cell_type": "code",
   "execution_count": 11,
   "metadata": {},
   "outputs": [
    {
     "name": "stdout",
     "output_type": "stream",
     "text": [
      "                                         name episodes\n",
      "0                               Mister Ajikko       99\n",
      "1  Tatakae! Chou Robot Seimeitai Transformers       98\n",
      "2          Majime ni Fumajime Kaiketsu Zorori       97\n",
      "3                             Dragon Ball Kai       97\n",
      "4                             Tetsujin 28-gou       96\n"
     ]
    }
   ],
   "source": [
    "anime_episodes_number = pd.DataFrame(anime_rating_details_data.groupby('name')['episodes'].max().sort_values(ascending=False)[:15]).reset_index()\n",
    "print(anime_episodes_number.head())"
   ]
  },
  {
   "cell_type": "code",
   "execution_count": 12,
   "metadata": {},
   "outputs": [
    {
     "data": {
      "image/png": "[encoded data removed]",
      "text/plain": [
       "<matplotlib.figure.Figure at 0x1d783a64518>"
      ]
     },
     "metadata": {},
     "output_type": "display_data"
    }
   ],
   "source": [
    "plt.bar(anime_episodes_number['name'], anime_episodes_number['episodes'], tick_label = anime_episodes_number['name'])\n",
    "plt.xlabel('Anime')\n",
    "plt.ylabel('Number of Episodes')\n",
    "plt.xticks(anime_episodes_number['name'], rotation = 'vertical')\n",
    "plt.title('Number of Episodes')\n",
    "plt.show()"
   ]
  },
  {
   "cell_type": "markdown",
   "metadata": {},
   "source": [
    "# Recommendation System"
   ]
  },
  {
   "cell_type": "code",
   "execution_count": 13,
   "metadata": {},
   "outputs": [],
   "source": [
    "training, test = anime_rating_data.randomSplit([0.8, 0.2])"
   ]
  },
  {
   "cell_type": "code",
   "execution_count": 14,
   "metadata": {
    "collapsed": true
   },
   "outputs": [],
   "source": [
    "als = ALS(maxIter=10, regParam=0.01, userCol = 'user_id', itemCol = 'anime_id', ratingCol = 'rating', coldStartStrategy=\"drop\")"
   ]
  },
  {
   "cell_type": "code",
   "execution_count": 15,
   "metadata": {},
   "outputs": [
    {
     "name": "stdout",
     "output_type": "stream",
     "text": [
      "+-------+--------+------+----------+\n",
      "|user_id|anime_id|rating|prediction|\n",
      "+-------+--------+------+----------+\n",
      "|   7726|     148|     8|  7.969903|\n",
      "|   6223|     148|    10| 2.1685557|\n",
      "|   2837|     148|     6| 4.5439405|\n",
      "|   5428|     148|    -1|  -9.44039|\n",
      "|   1239|     148|    10| 2.1513515|\n",
      "|   6569|     148|     6|  5.454629|\n",
      "|   7345|     148|     5|  7.130377|\n",
      "|   5345|     463|     8|   5.84532|\n",
      "|   6866|     463|     7|  6.993144|\n",
      "|   4859|     463|    -1|-0.9657736|\n",
      "|   8231|     463|     6| 6.4484763|\n",
      "|    857|     463|     7|  8.350036|\n",
      "|   5251|     463|    -1|-0.9983213|\n",
      "|   5543|     463|    10|   9.25627|\n",
      "|   5571|     463|    -1| -1.025047|\n",
      "|   4773|     463|     9|  7.582809|\n",
      "|   8423|     463|    -1| 0.9191793|\n",
      "|   1675|     463|     8|  7.133697|\n",
      "|   3152|     463|     6| 6.5351067|\n",
      "|   4321|     463|     7| 6.9575787|\n",
      "+-------+--------+------+----------+\n",
      "only showing top 20 rows\n",
      "\n"
     ]
    }
   ],
   "source": [
    "model = als.fit(training)\n",
    "predictions = model.transform(test)\n",
    "predictions.show()"
   ]
  },
  {
   "cell_type": "code",
   "execution_count": 16,
   "metadata": {},
   "outputs": [
    {
     "name": "stdout",
     "output_type": "stream",
     "text": [
      "5.711838730598964\n"
     ]
    }
   ],
   "source": [
    "modelevaluator = RegressionEvaluator(metricName = 'mse', labelCol = 'rating', predictionCol ='prediction')\n",
    "mse = modelevaluator.evaluate(predictions)\n",
    "print(mse)"
   ]
  },
  {
   "cell_type": "code",
   "execution_count": 17,
   "metadata": {},
   "outputs": [
    {
     "name": "stdout",
     "output_type": "stream",
     "text": [
      "+--------+-------+\n",
      "|anime_id|user_id|\n",
      "+--------+-------+\n",
      "|    1519|   5916|\n",
      "|    3032|   5916|\n",
      "|     393|   5916|\n",
      "|     427|   5916|\n",
      "|     479|   5916|\n",
      "|    5256|   5916|\n",
      "|    2685|   5916|\n",
      "|    2904|   5916|\n",
      "|    2144|   5916|\n",
      "|    1686|   5916|\n",
      "|    2020|   5916|\n",
      "|    3033|   5916|\n",
      "|     121|   5916|\n",
      "|     466|   5916|\n",
      "|     481|   5916|\n",
      "|     223|   5916|\n",
      "|    1816|   5916|\n",
      "|    1120|   5916|\n",
      "|    3031|   5916|\n",
      "|     834|   5916|\n",
      "+--------+-------+\n",
      "only showing top 20 rows\n",
      "\n"
     ]
    }
   ],
   "source": [
    "single_user = test.filter(test['user_id']==5916).select(['anime_id','user_id'])\n",
    "single_user.show()"
   ]
  },
  {
   "cell_type": "code",
   "execution_count": 18,
   "metadata": {},
   "outputs": [
    {
     "name": "stdout",
     "output_type": "stream",
     "text": [
      "+--------+-------+----------+\n",
      "|anime_id|user_id|prediction|\n",
      "+--------+-------+----------+\n",
      "|    2685|   5916|  9.750684|\n",
      "|    2904|   5916|  9.556599|\n",
      "|    2966|   5916|  9.247933|\n",
      "|    1519|   5916|  9.153988|\n",
      "|     121|   5916|  8.990497|\n",
      "|     427|   5916|   8.78578|\n",
      "|     479|   5916|  8.305604|\n",
      "|     223|   5916|  8.300729|\n",
      "|     177|   5916|   8.26258|\n",
      "|    2020|   5916|  8.256365|\n",
      "|    2107|   5916|  8.161304|\n",
      "|     465|   5916|  8.131595|\n",
      "|      68|   5916|  8.092404|\n",
      "|     393|   5916|  8.041121|\n",
      "|    1686|   5916|  7.996961|\n",
      "|     481|   5916| 7.7580595|\n",
      "|    2386|   5916| 7.7338686|\n",
      "|    2961|   5916|  7.653836|\n",
      "|    3032|   5916| 7.5157495|\n",
      "|     442|   5916| 7.4938045|\n",
      "+--------+-------+----------+\n",
      "only showing top 20 rows\n",
      "\n",
      "+--------+-------+----------+--------+--------------------+--------------------+-----+--------+------+-------+\n",
      "|anime_id|user_id|prediction|anime_id|                name|               genre| type|episodes|rating|members|\n",
      "+--------+-------+----------+--------+--------------------+--------------------+-----+--------+------+-------+\n",
      "|     481|   5916| 7.7580595|     481|Yu☆Gi☆Oh! Duel Mo...|Adventure, Game, ...|   TV|     224|  7.57| 132099|\n",
      "|    2386|   5916| 7.7338686|    2386|One Piece: Yume n...|Comedy, Fantasy, ...|Movie|       1|  7.34|  23915|\n",
      "|    1816|   5916| 6.9719844|    1816|             Sonic X|Adventure, Comedy...|   TV|      78|  6.54|  28296|\n",
      "|     223|   5916|  8.300729|     223|         Dragon Ball|Adventure, Comedy...|   TV|     153|  8.16| 316102|\n",
      "|    2961|   5916|  7.653836|    2961|Digimon Adventure...|Action, Fantasy, ...|Movie|       1|  7.61|  60753|\n",
      "+--------+-------+----------+--------+--------------------+--------------------+-----+--------+------+-------+\n",
      "only showing top 5 rows\n",
      "\n"
     ]
    }
   ],
   "source": [
    "anime_recommendations = model.transform(single_user)\n",
    "anime_recommendations.orderBy('prediction', ascending = False).show()\n",
    "anime_join = anime_recommendations.join(anime_data, anime_recommendations.anime_id == anime_data.anime_id)\n",
    "anime_join.show(5)"
   ]
  },
  {
   "cell_type": "markdown",
   "metadata": {},
   "source": [
    "## Data Preparation before clustering and classification"
   ]
  },
  {
   "cell_type": "code",
   "execution_count": 19,
   "metadata": {
    "collapsed": true
   },
   "outputs": [],
   "source": [
    "import numpy as np\n",
    "\n",
    "each_genre_anime_rating = pd.DataFrame()\n",
    "fantasy_anime_genres = anime_data_pandas[anime_data_pandas['genre'].str.contains('Fantasy')]\n",
    "average_fantasy_genre_votes_per_user = anime_rating_data_pandas[anime_rating_data_pandas['anime_id'].isin(fantasy_anime_genres['anime_id'])].loc[:, ['user_id', 'rating']].groupby(['user_id'])['rating'].mean().round(3)\n",
    "each_genre_anime_rating = pd.concat([each_genre_anime_rating, average_fantasy_genre_votes_per_user], axis = 1)\n",
    "\n",
    "adventure_anime_genres = anime_data_pandas[anime_data_pandas['genre'].str.contains('Adventure')]\n",
    "average_adventure_genre_votes_per_user = anime_rating_data_pandas[anime_rating_data_pandas['anime_id'].isin(adventure_anime_genres['anime_id'])].loc[:, ['user_id', 'rating']].groupby(['user_id'])['rating'].mean().round(3)\n",
    "each_genre_anime_rating = pd.concat([each_genre_anime_rating, average_adventure_genre_votes_per_user], axis = 1)\n",
    "each_genre_anime_rating.columns = ['average_fantasy_rating','average_adventure_rating']\n",
    "\n",
    "\n",
    "only_genre_lover_dataset = each_genre_anime_rating.dropna()\n",
    "only_genre_lover_dataset = only_genre_lover_dataset[only_genre_lover_dataset['average_fantasy_rating'] > 0]\n",
    "only_genre_lover_dataset = only_genre_lover_dataset[only_genre_lover_dataset['average_adventure_rating'] > 0]\n",
    "\n",
    "average_fantasy_lover_rating = only_genre_lover_dataset['average_fantasy_rating'].mean()\n",
    "average_adventure_lover_rating = only_genre_lover_dataset['average_adventure_rating'].mean()\n",
    "\n",
    "only_genre_lover_dataset['user_id'] = only_genre_lover_dataset.index\n",
    "export_temp_csv = only_genre_lover_dataset.to_csv('temp.csv')"
   ]
  },
  {
   "cell_type": "markdown",
   "metadata": {},
   "source": [
    "# Classification"
   ]
  },
  {
   "cell_type": "code",
   "execution_count": 20,
   "metadata": {
    "collapsed": true
   },
   "outputs": [],
   "source": [
    "from pyspark.mllib.classification import LogisticRegressionWithLBFGS\n",
    "from pyspark.mllib.regression import LabeledPoint\n",
    "from numpy import array\n",
    "\n",
    "def mapClass(fantasy_rating, adventure_rating):\n",
    "    if (fantasy_rating > average_fantasy_lover_rating) and (adventure_rating > average_adventure_lover_rating):\n",
    "        return 0\n",
    "    elif (fantasy_rating < average_fantasy_lover_rating) and (adventure_rating > average_adventure_lover_rating):\n",
    "        return 1\n",
    "    elif (fantasy_rating > average_fantasy_lover_rating) and (adventure_rating < average_adventure_lover_rating):\n",
    "        return 2\n",
    "    else:\n",
    "        return 3\n",
    "    \n",
    "def createLabeledPoints(fields):\n",
    "    fantasy_rating = float(fields[1])\n",
    "    adventure_rating = float(fields[2])\n",
    "    fan_class = mapClass(fantasy_rating, adventure_rating)\n",
    "    return LabeledPoint(fan_class, array([fantasy_rating,adventure_rating]))"
   ]
  },
  {
   "cell_type": "code",
   "execution_count": 21,
   "metadata": {},
   "outputs": [],
   "source": [
    "from pyspark.sql import SparkSession\n",
    "from pyspark.sql.types import *\n",
    "from pyspark.sql import SQLContext\n",
    "from pyspark.sql.functions import col, mean, when\n",
    "\n",
    "sc = spark.sparkContext\n",
    "raw_class_data = sc.textFile('temp.csv')\n",
    "class_headers = raw_class_data.first()\n",
    "header = sc.parallelize([class_headers])\n",
    "only_data = raw_class_data.subtract(header)"
   ]
  },
  {
   "cell_type": "code",
   "execution_count": 22,
   "metadata": {
    "collapsed": true
   },
   "outputs": [],
   "source": [
    "class_data = only_data.map(lambda x: x.split(\",\"))\n",
    "trainingData = class_data.map(createLabeledPoints)"
   ]
  },
  {
   "cell_type": "code",
   "execution_count": 23,
   "metadata": {},
   "outputs": [
    {
     "data": {
      "text/plain": [
       "[LabeledPoint(0.0, [8.333,8.333]),\n",
       " LabeledPoint(3.0, [5.381,6.227]),\n",
       " LabeledPoint(0.0, [8.0,8.667]),\n",
       " LabeledPoint(0.0, [10.0,10.0]),\n",
       " LabeledPoint(3.0, [1.273,0.208])]"
      ]
     },
     "execution_count": 23,
     "metadata": {},
     "output_type": "execute_result"
    }
   ],
   "source": [
    "trainingData.take(5)"
   ]
  },
  {
   "cell_type": "code",
   "execution_count": 24,
   "metadata": {
    "collapsed": true
   },
   "outputs": [],
   "source": [
    "model = LogisticRegressionWithLBFGS.train(trainingData, iterations=10, numClasses=4)"
   ]
  },
  {
   "cell_type": "code",
   "execution_count": 25,
   "metadata": {
    "collapsed": true
   },
   "outputs": [],
   "source": [
    "test = [array([8, 10]), \n",
    "        array([9.83, 7]), \n",
    "        array([4.5, 10])]"
   ]
  },
  {
   "cell_type": "code",
   "execution_count": 26,
   "metadata": {
    "collapsed": true
   },
   "outputs": [],
   "source": [
    "testData = sc.parallelize(test)\n",
    "predictions = model.predict(testData)"
   ]
  },
  {
   "cell_type": "code",
   "execution_count": 27,
   "metadata": {},
   "outputs": [
    {
     "name": "stdout",
     "output_type": "stream",
     "text": [
      "Fantasy And Adventure Lover\n",
      "Fantasy And Adventure Lover\n",
      "Adventure Lover\n"
     ]
    }
   ],
   "source": [
    "fan_category = ['Fantasy And Adventure Lover', 'Adventure Lover', 'Fantasy Lover', 'No Rating Category']\n",
    "results = predictions.collect()\n",
    "for result in results:\n",
    "    print(fan_category[result])"
   ]
  },
  {
   "cell_type": "code",
   "execution_count": 28,
   "metadata": {},
   "outputs": [
    {
     "name": "stdout",
     "output_type": "stream",
     "text": [
      "Training Error = 0.43212185996793157\n"
     ]
    }
   ],
   "source": [
    "labelsAndPreds = trainingData.map(lambda p: (p.label, model.predict(p.features)))\n",
    "trainingError = labelsAndPreds.filter(lambda lp: lp[0] != lp[1]).count()/ float(trainingData.count())\n",
    "print(\"Training Error = \" + str(trainingError))"
   ]
  },
  {
   "cell_type": "markdown",
   "metadata": {},
   "source": [
    "# Clustering"
   ]
  },
  {
   "cell_type": "code",
   "execution_count": 29,
   "metadata": {
    "collapsed": true
   },
   "outputs": [],
   "source": [
    "feature_col = ['average_fantasy_rating', 'average_adventure_rating']\n",
    "spark_genre_lover_dataframe = spark.createDataFrame(only_genre_lover_dataset)"
   ]
  },
  {
   "cell_type": "code",
   "execution_count": 30,
   "metadata": {
    "collapsed": true
   },
   "outputs": [],
   "source": [
    "for col in spark_genre_lover_dataframe.columns:\n",
    "    if col in feature_col:\n",
    "        spark_genre_lover_dataframe = spark_genre_lover_dataframe.withColumn(col, spark_genre_lover_dataframe[col].cast('float'))"
   ]
  },
  {
   "cell_type": "code",
   "execution_count": 31,
   "metadata": {},
   "outputs": [
    {
     "name": "stdout",
     "output_type": "stream",
     "text": [
      "+-------+--------------------+\n",
      "|user_id|            features|\n",
      "+-------+--------------------+\n",
      "|      3|[7.61499977111816...|\n",
      "|      5|[4.42299985885620...|\n",
      "|      7|[8.07699966430664...|\n",
      "|      8|          [8.0,10.0]|\n",
      "|     10|         [10.0,10.0]|\n",
      "|     11|[7.02600002288818...|\n",
      "|     12|[8.33300018310546...|\n",
      "|     14|[7.16699981689453...|\n",
      "|     17|[5.38100004196167...|\n",
      "|     18|[9.83300018310546...|\n",
      "+-------+--------------------+\n",
      "only showing top 10 rows\n",
      "\n"
     ]
    }
   ],
   "source": [
    "from pyspark.ml.clustering import KMeans\n",
    "from pyspark.ml.feature import VectorAssembler\n",
    "assembler = VectorAssembler(inputCols=feature_col, outputCol=\"features\")\n",
    "dataframe_kmeans = assembler.transform(spark_genre_lover_dataframe).select('user_id', 'features')\n",
    "dataframe_kmeans.show(10)"
   ]
  },
  {
   "cell_type": "code",
   "execution_count": 32,
   "metadata": {},
   "outputs": [
    {
     "data": {
      "text/plain": [
       "Text(0,0.5,'cost')"
      ]
     },
     "execution_count": 32,
     "metadata": {},
     "output_type": "execute_result"
    },
    {
     "data": {
      "image/png": "[encoded data removed]",
      "text/plain": [
       "<matplotlib.figure.Figure at 0x1d7fd5ccb00>"
      ]
     },
     "metadata": {},
     "output_type": "display_data"
    }
   ],
   "source": [
    "%matplotlib inline\n",
    "import numpy as np\n",
    "cost = np.zeros(20)\n",
    "for k in range(2,20):\n",
    "    kmeans = KMeans().setK(k).setSeed(1).setFeaturesCol(\"features\")\n",
    "    model = kmeans.fit(dataframe_kmeans.sample(False,0.1, seed=42))\n",
    "    cost[k] = model.computeCost(dataframe_kmeans)\n",
    "\n",
    "fig, ax = plt.subplots(1,1, figsize =(8,6))\n",
    "ax.plot(range(2,20),cost[2:20])\n",
    "ax.set_xlabel('k')\n",
    "ax.set_ylabel('cost')"
   ]
  },
  {
   "cell_type": "code",
   "execution_count": 33,
   "metadata": {
    "collapsed": true
   },
   "outputs": [],
   "source": [
    "k = 3\n",
    "kmeans = KMeans().setK(k).setSeed(1).setFeaturesCol(\"features\")\n",
    "model = kmeans.fit(dataframe_kmeans)"
   ]
  },
  {
   "cell_type": "code",
   "execution_count": 34,
   "metadata": {},
   "outputs": [
    {
     "name": "stdout",
     "output_type": "stream",
     "text": [
      "#### The cluster centers are ####\n",
      "[ 8.62171157  8.76197311]\n",
      "[ 2.93756942  2.91325585]\n",
      "[ 6.97170768  7.08570864]\n"
     ]
    }
   ],
   "source": [
    "cluster_centers = model.clusterCenters()\n",
    "\n",
    "print(\"#### The cluster centers are ####\")\n",
    "for centre in cluster_centers:\n",
    "    print(centre)"
   ]
  },
  {
   "cell_type": "code",
   "execution_count": 35,
   "metadata": {},
   "outputs": [
    {
     "name": "stdout",
     "output_type": "stream",
     "text": [
      "###### the wsse  value is ####10475.848708057145\n"
     ]
    }
   ],
   "source": [
    "wsse = model.computeCost(dataframe_kmeans)\n",
    "print(\"###### the wsse  value is ####\" + str(wsse))"
   ]
  },
  {
   "cell_type": "code",
   "execution_count": 36,
   "metadata": {},
   "outputs": [
    {
     "name": "stdout",
     "output_type": "stream",
     "text": [
      "+-------+--------------------+----------+\n",
      "|user_id|            features|prediction|\n",
      "+-------+--------------------+----------+\n",
      "|      3|[7.61499977111816...|         2|\n",
      "|      5|[4.42299985885620...|         1|\n",
      "|      7|[8.07699966430664...|         0|\n",
      "|      8|          [8.0,10.0]|         0|\n",
      "|     10|         [10.0,10.0]|         0|\n",
      "|     11|[7.02600002288818...|         2|\n",
      "|     12|[8.33300018310546...|         0|\n",
      "|     14|[7.16699981689453...|         2|\n",
      "|     17|[5.38100004196167...|         2|\n",
      "|     18|[9.83300018310546...|         0|\n",
      "|     19|[8.0,8.6669998168...|         0|\n",
      "|     20|         [10.0,10.0]|         0|\n",
      "|     21|[7.57100009918212...|         2|\n",
      "|     22|          [4.5,10.0]|         2|\n",
      "|     23|[9.55200004577636...|         0|\n",
      "|     24|           [3.0,7.0]|         2|\n",
      "|     27|[8.77799987792968...|         0|\n",
      "|     29|[7.25500011444091...|         2|\n",
      "|     30|[9.42899990081787...|         0|\n",
      "|     31|[3.85700011253356...|         1|\n",
      "+-------+--------------------+----------+\n",
      "only showing top 20 rows\n",
      "\n"
     ]
    }
   ],
   "source": [
    "prediction_cluster_result = model.transform(dataframe_kmeans)\n",
    "prediction_cluster_result.show(20)"
   ]
  }
 ],
 "metadata": {
  "kernelspec": {
   "display_name": "Python 3",
   "language": "python",
   "name": "python3"
  },
  "language_info": {
   "codemirror_mode": {
    "name": "ipython",
    "version": 3
   },
   "file_extension": ".py",
   "mimetype": "text/x-python",
   "name": "python",
   "nbconvert_exporter": "python",
   "pygments_lexer": "ipython3",
   "version": "3.6.3"
  }
 },
 "nbformat": 4,
 "nbformat_minor": 2
}
